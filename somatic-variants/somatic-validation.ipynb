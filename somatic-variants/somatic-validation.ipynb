{
 "cells": [
  {
   "cell_type": "code",
   "execution_count": 1,
   "metadata": {},
   "outputs": [],
   "source": [
    "#!/usr/bin/env python\n",
    "# import python libraries\n",
    "\n",
    "import numpy as np\n",
    "import pandas as pd\n",
    "import matplotlib.pyplot as plt\n",
    "import seaborn as sns\n"
   ]
  },
  {
   "cell_type": "code",
   "execution_count": 38,
   "metadata": {},
   "outputs": [
    {
     "data": {
      "text/html": [
       "<div>\n",
       "<style scoped>\n",
       "    .dataframe tbody tr th:only-of-type {\n",
       "        vertical-align: middle;\n",
       "    }\n",
       "\n",
       "    .dataframe tbody tr th {\n",
       "        vertical-align: top;\n",
       "    }\n",
       "\n",
       "    .dataframe thead th {\n",
       "        text-align: right;\n",
       "    }\n",
       "</style>\n",
       "<table border=\"1\" class=\"dataframe\">\n",
       "  <thead>\n",
       "    <tr style=\"text-align: right;\">\n",
       "      <th></th>\n",
       "      <th>caller</th>\n",
       "      <th>type</th>\n",
       "      <th>total.truth</th>\n",
       "      <th>total.query</th>\n",
       "      <th>tp</th>\n",
       "      <th>fp</th>\n",
       "      <th>fn</th>\n",
       "      <th>unk</th>\n",
       "      <th>recall</th>\n",
       "      <th>precision</th>\n",
       "      <th>fp.region.size</th>\n",
       "      <th>fp.rate</th>\n",
       "    </tr>\n",
       "  </thead>\n",
       "  <tbody>\n",
       "    <tr>\n",
       "      <th>1</th>\n",
       "      <td>mutect</td>\n",
       "      <td>SNVs</td>\n",
       "      <td>472</td>\n",
       "      <td>0</td>\n",
       "      <td>0</td>\n",
       "      <td>0</td>\n",
       "      <td>472</td>\n",
       "      <td>0</td>\n",
       "      <td>0.000000</td>\n",
       "      <td>0.000000</td>\n",
       "      <td>26548</td>\n",
       "      <td>0.000000</td>\n",
       "    </tr>\n",
       "    <tr>\n",
       "      <th>1</th>\n",
       "      <td>vardict</td>\n",
       "      <td>SNVs</td>\n",
       "      <td>472</td>\n",
       "      <td>374</td>\n",
       "      <td>348</td>\n",
       "      <td>26</td>\n",
       "      <td>124</td>\n",
       "      <td>0</td>\n",
       "      <td>0.737288</td>\n",
       "      <td>0.930481</td>\n",
       "      <td>26548</td>\n",
       "      <td>979.358144</td>\n",
       "    </tr>\n",
       "    <tr>\n",
       "      <th>1</th>\n",
       "      <td>strelka</td>\n",
       "      <td>SNVs</td>\n",
       "      <td>472</td>\n",
       "      <td>204</td>\n",
       "      <td>204</td>\n",
       "      <td>0</td>\n",
       "      <td>268</td>\n",
       "      <td>0</td>\n",
       "      <td>0.432203</td>\n",
       "      <td>1.000000</td>\n",
       "      <td>26548</td>\n",
       "      <td>0.000000</td>\n",
       "    </tr>\n",
       "    <tr>\n",
       "      <th>1</th>\n",
       "      <td>merged</td>\n",
       "      <td>SNVs</td>\n",
       "      <td>472</td>\n",
       "      <td>376</td>\n",
       "      <td>350</td>\n",
       "      <td>26</td>\n",
       "      <td>122</td>\n",
       "      <td>0</td>\n",
       "      <td>0.741525</td>\n",
       "      <td>0.930851</td>\n",
       "      <td>26548</td>\n",
       "      <td>979.358144</td>\n",
       "    </tr>\n",
       "  </tbody>\n",
       "</table>\n",
       "</div>"
      ],
      "text/plain": [
       "    caller  type  total.truth  total.query   tp  fp   fn  unk    recall  \\\n",
       "1   mutect  SNVs          472            0    0   0  472    0  0.000000   \n",
       "1  vardict  SNVs          472          374  348  26  124    0  0.737288   \n",
       "1  strelka  SNVs          472          204  204   0  268    0  0.432203   \n",
       "1   merged  SNVs          472          376  350  26  122    0  0.741525   \n",
       "\n",
       "   precision  fp.region.size     fp.rate  \n",
       "1   0.000000           26548    0.000000  \n",
       "1   0.930481           26548  979.358144  \n",
       "1   1.000000           26548    0.000000  \n",
       "1   0.930851           26548  979.358144  "
      ]
     },
     "execution_count": 38,
     "metadata": {},
     "output_type": "execute_result"
    }
   ],
   "source": [
    "# import data\n",
    "\n",
    "def concat_csv(files_list):\n",
    "    \"\"\"\n",
    "    files_list should be array of lists[('path', 'caller_name')]\n",
    "    \"\"\"\n",
    "    req_cols = ['type', 'total.truth', 'total.query', 'tp', 'fp', 'fn', 'unk',\n",
    "       'recall', 'precision', 'fp.region.size', 'fp.rate']\n",
    "    \n",
    "    final_df = pd.DataFrame()\n",
    "    \n",
    "    for file_path, caller in files_list:\n",
    "        data = pd.read_csv(file_path, index_col=0)\n",
    "        filter_data = data[data.type == 'SNVs'][req_cols]\n",
    "        filter_data.insert(loc=0, column='caller', value=caller)\n",
    "        if final_df.empty:\n",
    "            final_df = filter_data\n",
    "        else:\n",
    "            final_df = final_df.append(filter_data)\n",
    "            \n",
    "    return final_df\n",
    "    \n",
    "    \n",
    "stats_df = concat_csv([('hap.py/ACC5403A1_mutect_snvs.stats.csv','mutect'),\n",
    "                       ('hap.py/ACC5403A1_vardict_snvs.stats.csv','vardict'),\n",
    "                       ('hap.py/ACC5403A1_strelka.stats.csv','strelka'),\n",
    "                       ('hap.py/ACC5403A1_concat.stats.csv','merged')])\n",
    "\n",
    "stats_df"
   ]
  },
  {
   "cell_type": "code",
   "execution_count": 41,
   "metadata": {},
   "outputs": [
    {
     "data": {
      "text/plain": [
       "<Figure size 720x360 with 0 Axes>"
      ]
     },
     "metadata": {},
     "output_type": "display_data"
    },
    {
     "data": {
      "image/png": "[encoded data removed]",
      "text/plain": [
       "<Figure size 586.725x504 with 1 Axes>"
      ]
     },
     "metadata": {},
     "output_type": "display_data"
    }
   ],
   "source": [
    "plt.figure(figsize=(10,5))\n",
    "sns.set(style=\"white\")\n",
    "markers = {\"mutect\": \"^\", \"strelka\": \"X\", \"vardict\":\"v\", \"merged\": \"s\"}\n",
    "sns_plot = sns.relplot(data=stats_df, x=\"recall\", y=\"precision\",hue='caller', style='caller', \n",
    "                markers=markers, height=7, s=150)\n",
    "plt.title(\"Recall vs Precision - somatic variants\")\n",
    "plt.savefig('scatter_plot.png', bbox_inches=\"tight\")"
   ]
  },
  {
   "cell_type": "code",
   "execution_count": 45,
   "metadata": {},
   "outputs": [
    {
     "data": {
      "text/html": [
       "<div>\n",
       "<style scoped>\n",
       "    .dataframe tbody tr th:only-of-type {\n",
       "        vertical-align: middle;\n",
       "    }\n",
       "\n",
       "    .dataframe tbody tr th {\n",
       "        vertical-align: top;\n",
       "    }\n",
       "\n",
       "    .dataframe thead th {\n",
       "        text-align: right;\n",
       "    }\n",
       "</style>\n",
       "<table border=\"1\" class=\"dataframe\">\n",
       "  <thead>\n",
       "    <tr style=\"text-align: right;\">\n",
       "      <th></th>\n",
       "      <th>caller</th>\n",
       "      <th>type</th>\n",
       "      <th>total.truth</th>\n",
       "      <th>total.query</th>\n",
       "      <th>tp</th>\n",
       "      <th>fp</th>\n",
       "      <th>fn</th>\n",
       "      <th>unk</th>\n",
       "      <th>recall</th>\n",
       "      <th>precision</th>\n",
       "      <th>fp.region.size</th>\n",
       "      <th>fp.rate</th>\n",
       "    </tr>\n",
       "  </thead>\n",
       "  <tbody>\n",
       "    <tr>\n",
       "      <th>1</th>\n",
       "      <td>strelka</td>\n",
       "      <td>SNVs</td>\n",
       "      <td>472</td>\n",
       "      <td>308</td>\n",
       "      <td>292</td>\n",
       "      <td>16</td>\n",
       "      <td>180</td>\n",
       "      <td>0</td>\n",
       "      <td>0.618644</td>\n",
       "      <td>0.948052</td>\n",
       "      <td>26548</td>\n",
       "      <td>602.681935</td>\n",
       "    </tr>\n",
       "    <tr>\n",
       "      <th>1</th>\n",
       "      <td>vardict</td>\n",
       "      <td>SNVs</td>\n",
       "      <td>472</td>\n",
       "      <td>407</td>\n",
       "      <td>380</td>\n",
       "      <td>27</td>\n",
       "      <td>92</td>\n",
       "      <td>0</td>\n",
       "      <td>0.805085</td>\n",
       "      <td>0.933661</td>\n",
       "      <td>26548</td>\n",
       "      <td>1017.025765</td>\n",
       "    </tr>\n",
       "    <tr>\n",
       "      <th>1</th>\n",
       "      <td>gatk4</td>\n",
       "      <td>SNVs</td>\n",
       "      <td>472</td>\n",
       "      <td>412</td>\n",
       "      <td>344</td>\n",
       "      <td>68</td>\n",
       "      <td>128</td>\n",
       "      <td>0</td>\n",
       "      <td>0.728814</td>\n",
       "      <td>0.834951</td>\n",
       "      <td>26548</td>\n",
       "      <td>2561.398222</td>\n",
       "    </tr>\n",
       "    <tr>\n",
       "      <th>1</th>\n",
       "      <td>gatk4_filtered</td>\n",
       "      <td>SNVs</td>\n",
       "      <td>472</td>\n",
       "      <td>50</td>\n",
       "      <td>50</td>\n",
       "      <td>0</td>\n",
       "      <td>422</td>\n",
       "      <td>0</td>\n",
       "      <td>0.105932</td>\n",
       "      <td>1.000000</td>\n",
       "      <td>26548</td>\n",
       "      <td>0.000000</td>\n",
       "    </tr>\n",
       "  </tbody>\n",
       "</table>\n",
       "</div>"
      ],
      "text/plain": [
       "           caller  type  total.truth  total.query   tp  fp   fn  unk  \\\n",
       "1         strelka  SNVs          472          308  292  16  180    0   \n",
       "1         vardict  SNVs          472          407  380  27   92    0   \n",
       "1           gatk4  SNVs          472          412  344  68  128    0   \n",
       "1  gatk4_filtered  SNVs          472           50   50   0  422    0   \n",
       "\n",
       "     recall  precision  fp.region.size      fp.rate  \n",
       "1  0.618644   0.948052           26548   602.681935  \n",
       "1  0.805085   0.933661           26548  1017.025765  \n",
       "1  0.728814   0.834951           26548  2561.398222  \n",
       "1  0.105932   1.000000           26548     0.000000  "
      ]
     },
     "execution_count": 45,
     "metadata": {},
     "output_type": "execute_result"
    }
   ],
   "source": [
    "stats_df_bam = concat_csv([('hap.py/ACC5403A1_strelka_bam.stats.csv', 'strelka'),\n",
    "                           ('hap.py/ACC5403A1_vardict_bam.stats.csv', 'vardict'),\n",
    "                           ('hap.py/ACC5403A1_mutect2_gatk4.stats.csv', 'gatk4'),\n",
    "                           ('hap.py/ACC5403A1_mutect2_gatk4_filtered.stats.csv', 'gatk4_filtered')])\n",
    "stats_df_bam"
   ]
  },
  {
   "cell_type": "code",
   "execution_count": 46,
   "metadata": {},
   "outputs": [
    {
     "data": {
      "text/plain": [
       "Text(0.5, 1, 'Recall vs Precision - Strelka vs VarDict')"
      ]
     },
     "execution_count": 46,
     "metadata": {},
     "output_type": "execute_result"
    },
    {
     "data": {
      "text/plain": [
       "<Figure size 720x360 with 0 Axes>"
      ]
     },
     "metadata": {},
     "output_type": "display_data"
    },
    {
     "data": {
      "image/png": "[encoded data removed]",
      "text/plain": [
       "<Figure size 620.475x504 with 1 Axes>"
      ]
     },
     "metadata": {},
     "output_type": "display_data"
    }
   ],
   "source": [
    "plt.figure(figsize=(10,5))\n",
    "sns.set(style=\"white\")\n",
    "markers = {\"strelka\": \"X\", \"vardict\":\"^\", }\n",
    "sns_plot = sns.relplot(data=stats_df_bam, x=\"recall\", y=\"precision\",hue='caller', style='caller', height=7, s=150)\n",
    "plt.title(\"Recall vs Precision - Strelka vs VarDict\")"
   ]
  },
  {
   "cell_type": "code",
   "execution_count": null,
   "metadata": {},
   "outputs": [],
   "source": []
  }
 ],
 "metadata": {
  "kernelspec": {
   "display_name": "Python 3",
   "language": "python",
   "name": "python3"
  },
  "language_info": {
   "codemirror_mode": {
    "name": "ipython",
    "version": 3
   },
   "file_extension": ".py",
   "mimetype": "text/x-python",
   "name": "python",
   "nbconvert_exporter": "python",
   "pygments_lexer": "ipython3",
   "version": "3.6.7"
  }
 },
 "nbformat": 4,
 "nbformat_minor": 2
}
