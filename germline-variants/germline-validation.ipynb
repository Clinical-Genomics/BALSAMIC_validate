{
 "cells": [
  {
   "cell_type": "code",
   "execution_count": 6,
   "metadata": {},
   "outputs": [],
   "source": [
    "#!/usr/bin/env python\n",
    "# import python libraries\n",
    "\n",
    "import numpy as np\n",
    "import pandas as pd\n",
    "import matplotlib.pyplot as plt\n",
    "import seaborn as sns\n"
   ]
  },
  {
   "cell_type": "code",
   "execution_count": 156,
   "metadata": {},
   "outputs": [
    {
     "data": {
      "text/html": [
       "<div>\n",
       "<style scoped>\n",
       "    .dataframe tbody tr th:only-of-type {\n",
       "        vertical-align: middle;\n",
       "    }\n",
       "\n",
       "    .dataframe tbody tr th {\n",
       "        vertical-align: top;\n",
       "    }\n",
       "\n",
       "    .dataframe thead th {\n",
       "        text-align: right;\n",
       "    }\n",
       "</style>\n",
       "<table border=\"1\" class=\"dataframe\">\n",
       "  <thead>\n",
       "    <tr style=\"text-align: right;\">\n",
       "      <th></th>\n",
       "      <th>Callers</th>\n",
       "      <th>Type</th>\n",
       "      <th>TRUTH.TOTAL</th>\n",
       "      <th>TRUTH.TP</th>\n",
       "      <th>TRUTH.FN</th>\n",
       "      <th>QUERY.TOTAL</th>\n",
       "      <th>QUERY.FP</th>\n",
       "      <th>QUERY.UNK</th>\n",
       "      <th>METRIC.Recall</th>\n",
       "      <th>METRIC.Precision</th>\n",
       "    </tr>\n",
       "  </thead>\n",
       "  <tbody>\n",
       "    <tr>\n",
       "      <th>1</th>\n",
       "      <td>Haplotype</td>\n",
       "      <td>INDEL</td>\n",
       "      <td>7225</td>\n",
       "      <td>6032</td>\n",
       "      <td>1193</td>\n",
       "      <td>7248</td>\n",
       "      <td>1139</td>\n",
       "      <td>7</td>\n",
       "      <td>0.834879</td>\n",
       "      <td>0.842701</td>\n",
       "    </tr>\n",
       "    <tr>\n",
       "      <th>3</th>\n",
       "      <td>Haplotype</td>\n",
       "      <td>SNP</td>\n",
       "      <td>49523</td>\n",
       "      <td>47708</td>\n",
       "      <td>1815</td>\n",
       "      <td>50924</td>\n",
       "      <td>3205</td>\n",
       "      <td>0</td>\n",
       "      <td>0.963350</td>\n",
       "      <td>0.937063</td>\n",
       "    </tr>\n",
       "    <tr>\n",
       "      <th>1</th>\n",
       "      <td>Freebayes</td>\n",
       "      <td>INDEL</td>\n",
       "      <td>7350</td>\n",
       "      <td>5702</td>\n",
       "      <td>1648</td>\n",
       "      <td>8543</td>\n",
       "      <td>2865</td>\n",
       "      <td>33</td>\n",
       "      <td>0.775782</td>\n",
       "      <td>0.663337</td>\n",
       "    </tr>\n",
       "    <tr>\n",
       "      <th>3</th>\n",
       "      <td>Freebayes</td>\n",
       "      <td>SNP</td>\n",
       "      <td>49540</td>\n",
       "      <td>47501</td>\n",
       "      <td>2039</td>\n",
       "      <td>57653</td>\n",
       "      <td>10074</td>\n",
       "      <td>17</td>\n",
       "      <td>0.958841</td>\n",
       "      <td>0.825213</td>\n",
       "    </tr>\n",
       "    <tr>\n",
       "      <th>1</th>\n",
       "      <td>Strelka</td>\n",
       "      <td>INDEL</td>\n",
       "      <td>7350</td>\n",
       "      <td>5168</td>\n",
       "      <td>2182</td>\n",
       "      <td>15483</td>\n",
       "      <td>1014</td>\n",
       "      <td>9340</td>\n",
       "      <td>0.703129</td>\n",
       "      <td>0.834934</td>\n",
       "    </tr>\n",
       "    <tr>\n",
       "      <th>3</th>\n",
       "      <td>Strelka</td>\n",
       "      <td>SNP</td>\n",
       "      <td>49540</td>\n",
       "      <td>45285</td>\n",
       "      <td>4255</td>\n",
       "      <td>159382</td>\n",
       "      <td>2389</td>\n",
       "      <td>111657</td>\n",
       "      <td>0.914110</td>\n",
       "      <td>0.949942</td>\n",
       "    </tr>\n",
       "  </tbody>\n",
       "</table>\n",
       "</div>"
      ],
      "text/plain": [
       "     Callers   Type  TRUTH.TOTAL  TRUTH.TP  TRUTH.FN  QUERY.TOTAL  QUERY.FP  \\\n",
       "1  Haplotype  INDEL         7225      6032      1193         7248      1139   \n",
       "3  Haplotype    SNP        49523     47708      1815        50924      3205   \n",
       "1  Freebayes  INDEL         7350      5702      1648         8543      2865   \n",
       "3  Freebayes    SNP        49540     47501      2039        57653     10074   \n",
       "1    Strelka  INDEL         7350      5168      2182        15483      1014   \n",
       "3    Strelka    SNP        49540     45285      4255       159382      2389   \n",
       "\n",
       "   QUERY.UNK  METRIC.Recall  METRIC.Precision  \n",
       "1          7       0.834879          0.842701  \n",
       "3          0       0.963350          0.937063  \n",
       "1         33       0.775782          0.663337  \n",
       "3         17       0.958841          0.825213  \n",
       "1       9340       0.703129          0.834934  \n",
       "3     111657       0.914110          0.949942  "
      ]
     },
     "execution_count": 156,
     "metadata": {},
     "output_type": "execute_result"
    }
   ],
   "source": [
    "# read csv files from hap.py result\n",
    "haplotype_csv = pd.read_csv('hap.py/NA12878.benchmark.haplotype.summary.csv')\n",
    "freebayes_csv = pd.read_csv('hap.py/NA12878.benchmark.freebayes.summary.csv')\n",
    "strelka_csv = pd.read_csv('hap.py/NA12878.benchmark.strelka.summary.csv')\n",
    "\n",
    "# required cols from data\n",
    "req_cols = ['Type','TRUTH.TOTAL','TRUTH.TP','TRUTH.FN','QUERY.TOTAL','QUERY.FP','QUERY.UNK','METRIC.Recall', 'METRIC.Precision']\n",
    "\n",
    "# Take only Filter PASS rows\n",
    "haplotype_data = haplotype_csv[haplotype_csv.Filter == 'PASS'][req_cols]\n",
    "freebayes_data = freebayes_csv[freebayes_csv.Filter == 'PASS'][req_cols]\n",
    "strelka_data = strelka_csv[strelka_csv.Filter == 'PASS'][req_cols]\n",
    "\n",
    "# add callers column\n",
    "haplotype_data.insert(loc=0, column='Callers', value='Haplotype') \n",
    "freebayes_data.insert(loc=0, column='Callers', value='Freebayes') \n",
    "strelka_data.insert(loc=0, column='Callers', value='Strelka') \n",
    "\n",
    "# concat all data\n",
    "all_data = pd.concat([haplotype_data, freebayes_data, strelka_data])\n",
    "all_data"
   ]
  },
  {
   "cell_type": "code",
   "execution_count": 158,
   "metadata": {},
   "outputs": [
    {
     "data": {
      "text/plain": [
       "<Figure size 720x360 with 0 Axes>"
      ]
     },
     "metadata": {},
     "output_type": "display_data"
    },
    {
     "data": {
      "image/png": "[encoded data removed]",
      "text/plain": [
       "<Figure size 601.225x504 with 1 Axes>"
      ]
     },
     "metadata": {},
     "output_type": "display_data"
    }
   ],
   "source": [
    "plt.figure(figsize=(10,5))\n",
    "sns.set(style=\"white\")\n",
    "markers = {\"Haplotype\": \"^\", \"Freebayes\": \"X\", \"Strelka\":\"v\"}\n",
    "sns_plot = sns.relplot(data=all_data, x=\"METRIC.Recall\", y=\"METRIC.Precision\",hue='Type', style='Callers', \n",
    "                markers=markers, height=7, s=150)\n",
    "plt.title(\"Recall vs Precision - Germline variants\")\n",
    "plt.savefig('scatter_plot.png', bbox_inches=\"tight\")"
   ]
  },
  {
   "cell_type": "code",
   "execution_count": null,
   "metadata": {},
   "outputs": [],
   "source": []
  },
  {
   "cell_type": "code",
   "execution_count": null,
   "metadata": {},
   "outputs": [],
   "source": []
  },
  {
   "cell_type": "code",
   "execution_count": null,
   "metadata": {},
   "outputs": [],
   "source": []
  },
  {
   "cell_type": "code",
   "execution_count": null,
   "metadata": {},
   "outputs": [],
   "source": []
  }
 ],
 "metadata": {
  "kernelspec": {
   "display_name": "Python 3",
   "language": "python",
   "name": "python3"
  },
  "language_info": {
   "codemirror_mode": {
    "name": "ipython",
    "version": 3
   },
   "file_extension": ".py",
   "mimetype": "text/x-python",
   "name": "python",
   "nbconvert_exporter": "python",
   "pygments_lexer": "ipython3",
   "version": "3.6.7"
  }
 },
 "nbformat": 4,
 "nbformat_minor": 2
}
